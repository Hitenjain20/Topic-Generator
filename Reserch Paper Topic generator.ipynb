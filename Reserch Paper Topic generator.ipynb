{
 "cells": [
  {
   "cell_type": "code",
   "execution_count": 2,
   "id": "90c0704c",
   "metadata": {},
   "outputs": [],
   "source": [
    "import tensorflow as tf\n",
    "import pandas as pd\n",
    "import numpy as np\n",
    "import os\n",
    "import time"
   ]
  },
  {
   "cell_type": "code",
   "execution_count": 21,
   "id": "0b3b506e",
   "metadata": {},
   "outputs": [
    {
     "data": {
      "text/plain": [
       "True"
      ]
     },
     "execution_count": 21,
     "metadata": {},
     "output_type": "execute_result"
    }
   ],
   "source": [
    "tf.executing_eagerly()"
   ]
  },
  {
   "cell_type": "code",
   "execution_count": 4,
   "id": "a8479522",
   "metadata": {},
   "outputs": [
    {
     "data": {
      "text/html": [
       "<div>\n",
       "<style scoped>\n",
       "    .dataframe tbody tr th:only-of-type {\n",
       "        vertical-align: middle;\n",
       "    }\n",
       "\n",
       "    .dataframe tbody tr th {\n",
       "        vertical-align: top;\n",
       "    }\n",
       "\n",
       "    .dataframe thead th {\n",
       "        text-align: right;\n",
       "    }\n",
       "</style>\n",
       "<table border=\"1\" class=\"dataframe\">\n",
       "  <thead>\n",
       "    <tr style=\"text-align: right;\">\n",
       "      <th></th>\n",
       "      <th>titles</th>\n",
       "    </tr>\n",
       "  </thead>\n",
       "  <tbody>\n",
       "    <tr>\n",
       "      <th>24306</th>\n",
       "      <td>Structured Query-Based Image Retrieval Using S...</td>\n",
       "    </tr>\n",
       "    <tr>\n",
       "      <th>15142</th>\n",
       "      <td>Intelligent Icing Detection Model of Wind Turb...</td>\n",
       "    </tr>\n",
       "    <tr>\n",
       "      <th>40637</th>\n",
       "      <td>CORE: Color Regression for Multiple Colors Fas...</td>\n",
       "    </tr>\n",
       "    <tr>\n",
       "      <th>41320</th>\n",
       "      <td>Fast, Accurate, and Simple Models for Tabular ...</td>\n",
       "    </tr>\n",
       "    <tr>\n",
       "      <th>28183</th>\n",
       "      <td>Approach for modeling single branches of meado...</td>\n",
       "    </tr>\n",
       "  </tbody>\n",
       "</table>\n",
       "</div>"
      ],
      "text/plain": [
       "                                                  titles\n",
       "24306  Structured Query-Based Image Retrieval Using S...\n",
       "15142  Intelligent Icing Detection Model of Wind Turb...\n",
       "40637  CORE: Color Regression for Multiple Colors Fas...\n",
       "41320  Fast, Accurate, and Simple Models for Tabular ...\n",
       "28183  Approach for modeling single branches of meado..."
      ]
     },
     "execution_count": 4,
     "metadata": {},
     "output_type": "execute_result"
    }
   ],
   "source": [
    "data = pd.read_csv('arxiv_data.csv')\n",
    "data = data.drop(columns=['summaries','terms'])\n",
    "data = data.sample(frac=1)\n",
    "data = data[0:500]\n",
    "data.head()"
   ]
  },
  {
   "cell_type": "code",
   "execution_count": 5,
   "id": "a9c15317",
   "metadata": {},
   "outputs": [
    {
     "data": {
      "text/plain": [
       "(500, 1)"
      ]
     },
     "execution_count": 5,
     "metadata": {},
     "output_type": "execute_result"
    }
   ],
   "source": [
    "data.shape"
   ]
  },
  {
   "cell_type": "code",
   "execution_count": null,
   "id": "75c2777b",
   "metadata": {},
   "outputs": [],
   "source": [
    "'''\n",
    "data2 = pd.read_csv('arxiv_data_210930-054931.csv')\n",
    "data2 = data2.drop(columns=['abstracts','terms'])\n",
    "data2 = data2.sample(frac=1)\n",
    "#data2 = data2[0:500]\n",
    "data2.head()\n",
    "'''"
   ]
  },
  {
   "cell_type": "code",
   "execution_count": null,
   "id": "2952f303",
   "metadata": {},
   "outputs": [],
   "source": [
    "#data2.shape"
   ]
  },
  {
   "cell_type": "code",
   "execution_count": null,
   "id": "cb0656fc",
   "metadata": {},
   "outputs": [],
   "source": [
    "#data2.head()"
   ]
  },
  {
   "cell_type": "code",
   "execution_count": null,
   "id": "348b5b2a",
   "metadata": {},
   "outputs": [],
   "source": [
    "#data.shape"
   ]
  },
  {
   "cell_type": "code",
   "execution_count": 6,
   "id": "5301e1b5",
   "metadata": {},
   "outputs": [],
   "source": [
    "terms = data.titles.tolist()\n",
    "text = ''\n",
    "for t in terms:\n",
    "    text=text+' ' +t\n",
    "text = text[1::]"
   ]
  },
  {
   "cell_type": "code",
   "execution_count": 7,
   "id": "f337bef9",
   "metadata": {},
   "outputs": [
    {
     "name": "stdout",
     "output_type": "stream",
     "text": [
      "72 unique characters\n"
     ]
    }
   ],
   "source": [
    "# The unique characters in the file\n",
    "vocab = sorted(set(text))\n",
    "print('{} unique characters'.format(len(vocab)))\n",
    "char2idx = {u:i for i, u in enumerate(vocab)}\n",
    "idx2char = np.array(vocab)"
   ]
  },
  {
   "cell_type": "code",
   "execution_count": 8,
   "id": "7089514a",
   "metadata": {},
   "outputs": [],
   "source": [
    "text_as_int = np.array([char2idx[c] for c in text])"
   ]
  },
  {
   "cell_type": "code",
   "execution_count": 9,
   "id": "1199acee",
   "metadata": {},
   "outputs": [],
   "source": [
    "# Creating a mapping from unique characters to indices\n",
    "char2idx = {u:i for i, u in enumerate(vocab)}\n",
    "idx2char = np.array(vocab)\n",
    "\n",
    "text_as_int = np.array([char2idx[c] for c in text])\n",
    "seq_length = 100\n",
    "examples_per_epoch = len(text)//(seq_length+1)"
   ]
  },
  {
   "cell_type": "code",
   "execution_count": 10,
   "id": "31aa620c",
   "metadata": {},
   "outputs": [],
   "source": [
    "# Create training examples / targets\n",
    "char_dataset = tf.data.Dataset.from_tensor_slices(text_as_int)\n",
    "sequences = char_dataset.batch(seq_length+1, drop_remainder=True)\n",
    "def split_input_target(chunk):\n",
    "    input_text = chunk[:-1]\n",
    "    target_text = chunk[1:]\n",
    "    return input_text, target_text\n",
    "\n",
    "dataset = sequences.map(split_input_target)"
   ]
  },
  {
   "cell_type": "code",
   "execution_count": 11,
   "id": "2d074ef4",
   "metadata": {},
   "outputs": [
    {
     "data": {
      "text/plain": [
       "<BatchDataset shapes: ((10, 100), (10, 100)), types: (tf.int32, tf.int32)>"
      ]
     },
     "execution_count": 11,
     "metadata": {},
     "output_type": "execute_result"
    }
   ],
   "source": [
    "# Batch size\n",
    "BATCH_SIZE = 10\n",
    "\n",
    "# Buffer size to shuffle the dataset\n",
    "# (TF data is designed to work with possibly infinite sequences,\n",
    "# so it doesn't attempt to shuffle the entire sequence in memory. Instead,\n",
    "# it maintains a buffer in which it shuffles elements).\n",
    "BUFFER_SIZE = 10000\n",
    "\n",
    "dataset = dataset.shuffle(BUFFER_SIZE).batch(BATCH_SIZE, drop_remainder=True)\n",
    "\n",
    "dataset"
   ]
  },
  {
   "cell_type": "code",
   "execution_count": 12,
   "id": "1984ea86",
   "metadata": {},
   "outputs": [],
   "source": [
    "# Length of the vocabulary in chars\n",
    "vocab_size = len(vocab)\n",
    "\n",
    "# The embedding dimension\n",
    "embedding_dim = 100\n",
    "\n",
    "# Number of RNN units\n",
    "rnn_units = 100"
   ]
  },
  {
   "cell_type": "code",
   "execution_count": 13,
   "id": "d00a444a",
   "metadata": {},
   "outputs": [],
   "source": [
    "def build_model(vocab_size, embedding_dim, rnn_units, batch_size):\n",
    "    model = tf.keras.Sequential([\n",
    "        tf.keras.layers.Embedding(vocab_size, embedding_dim,\n",
    "                                  batch_input_shape=[batch_size, None]),\n",
    "        tf.keras.layers.GRU(rnn_units,\n",
    "                            return_sequences=True,\n",
    "                            stateful=True,\n",
    "                            recurrent_initializer='glorot_uniform'),\n",
    "        tf.keras.layers.Dense(vocab_size)\n",
    "    ])\n",
    "    return model"
   ]
  },
  {
   "cell_type": "code",
   "execution_count": 14,
   "id": "7bc471b3",
   "metadata": {},
   "outputs": [
    {
     "name": "stdout",
     "output_type": "stream",
     "text": [
      "Model: \"sequential\"\n",
      "_________________________________________________________________\n",
      "Layer (type)                 Output Shape              Param #   \n",
      "=================================================================\n",
      "embedding (Embedding)        (10, None, 100)           7200      \n",
      "_________________________________________________________________\n",
      "gru (GRU)                    (10, None, 100)           60600     \n",
      "_________________________________________________________________\n",
      "dense (Dense)                (10, None, 72)            7272      \n",
      "=================================================================\n",
      "Total params: 75,072\n",
      "Trainable params: 75,072\n",
      "Non-trainable params: 0\n",
      "_________________________________________________________________\n"
     ]
    }
   ],
   "source": [
    "model = build_model(\n",
    "    vocab_size=len(vocab),\n",
    "    embedding_dim=embedding_dim,\n",
    "    rnn_units=rnn_units,\n",
    "    batch_size=BATCH_SIZE)\n",
    "model.summary()"
   ]
  },
  {
   "cell_type": "code",
   "execution_count": 15,
   "id": "b63fefa0",
   "metadata": {},
   "outputs": [],
   "source": [
    "def loss(labels, logits):\n",
    "    return tf.keras.losses.sparse_categorical_crossentropy(labels, logits, from_logits=True)"
   ]
  },
  {
   "cell_type": "code",
   "execution_count": 16,
   "id": "ac9fb54f",
   "metadata": {},
   "outputs": [],
   "source": [
    "model.compile(optimizer='adam', loss=loss,run_eagerly=True)"
   ]
  },
  {
   "cell_type": "code",
   "execution_count": 17,
   "id": "8cabdd9e",
   "metadata": {},
   "outputs": [],
   "source": [
    "# Directory where the checkpoints will be saved\n",
    "checkpoint_dir = './training_checkpoints'\n",
    "# Name of the checkpoint files\n",
    "checkpoint_prefix = os.path.join(checkpoint_dir, \"ckpt_{epoch}\")\n",
    "\n",
    "checkpoint_callback = tf.keras.callbacks.ModelCheckpoint(\n",
    "    filepath=checkpoint_prefix,\n",
    "    save_weights_only=True)"
   ]
  },
  {
   "cell_type": "code",
   "execution_count": 18,
   "id": "188fc02d",
   "metadata": {},
   "outputs": [
    {
     "name": "stdout",
     "output_type": "stream",
     "text": [
      "Epoch 1/50\n",
      "36/36 [==============================] - 12s 314ms/step - loss: 3.7705\n",
      "Epoch 2/50\n",
      "36/36 [==============================] - 12s 316ms/step - loss: 3.1354\n",
      "Epoch 3/50\n",
      "36/36 [==============================] - 12s 323ms/step - loss: 2.8128\n",
      "Epoch 4/50\n",
      "36/36 [==============================] - 11s 316ms/step - loss: 2.5694\n",
      "Epoch 5/50\n",
      "36/36 [==============================] - 12s 319ms/step - loss: 2.4365\n",
      "Epoch 6/50\n",
      "36/36 [==============================] - 12s 324ms/step - loss: 2.3344\n",
      "Epoch 7/50\n",
      "36/36 [==============================] - 11s 313ms/step - loss: 2.2490\n",
      "Epoch 8/50\n",
      "36/36 [==============================] - 12s 337ms/step - loss: 2.1673\n",
      "Epoch 9/50\n",
      "36/36 [==============================] - 12s 325ms/step - loss: 2.0958\n",
      "Epoch 10/50\n",
      "36/36 [==============================] - 12s 327ms/step - loss: 2.0286\n",
      "Epoch 11/50\n",
      "36/36 [==============================] - 12s 322ms/step - loss: 1.9676\n",
      "Epoch 12/50\n",
      "36/36 [==============================] - 14s 395ms/step - loss: 1.9109\n",
      "Epoch 13/50\n",
      "36/36 [==============================] - 11s 301ms/step - loss: 1.8586\n",
      "Epoch 14/50\n",
      "36/36 [==============================] - 12s 332ms/step - loss: 1.8072\n",
      "Epoch 15/50\n",
      "36/36 [==============================] - 12s 317ms/step - loss: 1.7691\n",
      "Epoch 16/50\n",
      "36/36 [==============================] - 12s 329ms/step - loss: 1.7262\n",
      "Epoch 17/50\n",
      "36/36 [==============================] - 11s 317ms/step - loss: 1.6916\n",
      "Epoch 18/50\n",
      "36/36 [==============================] - 12s 322ms/step - loss: 1.6597\n",
      "Epoch 19/50\n",
      "36/36 [==============================] - 12s 322ms/step - loss: 1.6278\n",
      "Epoch 20/50\n",
      "36/36 [==============================] - 12s 325ms/step - loss: 1.5986\n",
      "Epoch 21/50\n",
      "36/36 [==============================] - 11s 310ms/step - loss: 1.5699\n",
      "Epoch 22/50\n",
      "36/36 [==============================] - 11s 318ms/step - loss: 1.5440\n",
      "Epoch 23/50\n",
      "36/36 [==============================] - 11s 318ms/step - loss: 1.5213\n",
      "Epoch 24/50\n",
      "36/36 [==============================] - 12s 319ms/step - loss: 1.4970\n",
      "Epoch 25/50\n",
      "36/36 [==============================] - 11s 318ms/step - loss: 1.4762\n",
      "Epoch 26/50\n",
      "36/36 [==============================] - 11s 312ms/step - loss: 1.4533\n",
      "Epoch 27/50\n",
      "36/36 [==============================] - 11s 310ms/step - loss: 1.4350\n",
      "Epoch 28/50\n",
      "36/36 [==============================] - 12s 321ms/step - loss: 1.4162\n",
      "Epoch 29/50\n",
      "36/36 [==============================] - 12s 322ms/step - loss: 1.3979\n",
      "Epoch 30/50\n",
      "36/36 [==============================] - 12s 339ms/step - loss: 1.3800\n",
      "Epoch 31/50\n",
      "36/36 [==============================] - 13s 356ms/step - loss: 1.3632\n",
      "Epoch 32/50\n",
      "36/36 [==============================] - 12s 338ms/step - loss: 1.3500\n",
      "Epoch 33/50\n",
      "36/36 [==============================] - 12s 322ms/step - loss: 1.3316\n",
      "Epoch 34/50\n",
      "36/36 [==============================] - 12s 329ms/step - loss: 1.3164\n",
      "Epoch 35/50\n",
      "36/36 [==============================] - 12s 332ms/step - loss: 1.3028\n",
      "Epoch 36/50\n",
      "36/36 [==============================] - 12s 323ms/step - loss: 1.2885\n",
      "Epoch 37/50\n",
      "36/36 [==============================] - 11s 313ms/step - loss: 1.2741\n",
      "Epoch 38/50\n",
      "36/36 [==============================] - 12s 319ms/step - loss: 1.2619\n",
      "Epoch 39/50\n",
      "36/36 [==============================] - 12s 318ms/step - loss: 1.2510\n",
      "Epoch 40/50\n",
      "36/36 [==============================] - 12s 319ms/step - loss: 1.2413\n",
      "Epoch 41/50\n",
      "36/36 [==============================] - 11s 313ms/step - loss: 1.2289\n",
      "Epoch 42/50\n",
      "36/36 [==============================] - 12s 324ms/step - loss: 1.2162\n",
      "Epoch 43/50\n",
      "36/36 [==============================] - 12s 324ms/step - loss: 1.2054\n",
      "Epoch 44/50\n",
      "36/36 [==============================] - 12s 330ms/step - loss: 1.1927\n",
      "Epoch 45/50\n",
      "36/36 [==============================] - 11s 311ms/step - loss: 1.1858\n",
      "Epoch 46/50\n",
      "36/36 [==============================] - 12s 334ms/step - loss: 1.1748\n",
      "Epoch 47/50\n",
      "36/36 [==============================] - 11s 307ms/step - loss: 1.1624\n",
      "Epoch 48/50\n",
      "36/36 [==============================] - 11s 316ms/step - loss: 1.1546\n",
      "Epoch 49/50\n",
      "36/36 [==============================] - 12s 321ms/step - loss: 1.1447\n",
      "Epoch 50/50\n",
      "36/36 [==============================] - 12s 321ms/step - loss: 1.1324\n"
     ]
    }
   ],
   "source": [
    "EPOCHS = 50\n",
    "history = model.fit(dataset, epochs=EPOCHS, callbacks=[checkpoint_callback])"
   ]
  },
  {
   "cell_type": "code",
   "execution_count": 19,
   "id": "2895bc76",
   "metadata": {},
   "outputs": [],
   "source": [
    "model = build_model(vocab_size, embedding_dim, rnn_units, batch_size=1)\n",
    "\n",
    "model.load_weights(tf.train.latest_checkpoint(checkpoint_dir))\n",
    "\n",
    "model.build(tf.TensorShape([1, None]))"
   ]
  },
  {
   "cell_type": "code",
   "execution_count": 20,
   "id": "cddb3c40",
   "metadata": {},
   "outputs": [],
   "source": [
    "def generate_text(model, start_string,t):\n",
    "    # Evaluation step (generating text using the learned model)\n",
    "\n",
    "    # Number of characters to generate\n",
    "    num_generate = 100\n",
    "\n",
    "    # Converting our start string to numbers (vectorizing)\n",
    "    input_eval = [char2idx[s] for s in start_string]\n",
    "    input_eval = tf.expand_dims(input_eval, 0)\n",
    "\n",
    "    # Empty string to store our results\n",
    "    text_generated = []\n",
    "\n",
    "    # Low temperature results in more predictable text.\n",
    "    # Higher temperature results in more surprising text.\n",
    "    # Experiment to find the best setting.\n",
    "    temperature = t\n",
    "\n",
    "    # Here batch size == 1\n",
    "    model.reset_states()\n",
    "    for i in range(num_generate):\n",
    "        predictions = model(input_eval)\n",
    "        # remove the batch dimension\n",
    "        predictions = tf.squeeze(predictions, 0)\n",
    "\n",
    "        # using a categorical distribution to predict the character returned by the model\n",
    "        predictions = predictions / temperature\n",
    "        predicted_id = tf.random.categorical(predictions, num_samples=1)[-1,0].numpy()\n",
    "\n",
    "        # Pass the predicted character as the next input to the model\n",
    "        # along with the previous hidden state\n",
    "        input_eval = tf.expand_dims([predicted_id], 0)\n",
    "\n",
    "        text_generated.append(idx2char[predicted_id])\n",
    "\n",
    "    return (start_string + ''.join(text_generated))"
   ]
  },
  {
   "cell_type": "code",
   "execution_count": null,
   "id": "683ee5ea",
   "metadata": {},
   "outputs": [],
   "source": [
    "t_01 = (generate_text(model, start_string=u\"Transformer\",t=0.1))\n",
    "t_02 = (generate_text(model, start_string=u\"Bio \",t=0.2))\n",
    "t_06 = (generate_text(model, start_string=u\"Neural \",t=0.6))\n",
    "t_08 = (generate_text(model, start_string=u\"Liquidation\",t=0.8))\n",
    "t_1 = (generate_text(model, start_string=u\"Support \",t=1.0))"
   ]
  },
  {
   "cell_type": "code",
   "execution_count": null,
   "id": "eea5a7a7",
   "metadata": {},
   "outputs": [],
   "source": [
    "T = [0.1,0.2,0.6,0.8,1.00]\n",
    "strings = [t_01,t_02,t_06,t_08,t_1]\n",
    "for i in range(len(T)):\n",
    "    print('Temperature = %.1f \\n Strings Produced = %s'%(T[i],strings[i]))"
   ]
  },
  {
   "cell_type": "code",
   "execution_count": null,
   "id": "03ae6192",
   "metadata": {},
   "outputs": [],
   "source": [
    "import joblib\n",
    "joblib.dump(model, 'topic_generate.pkl')"
   ]
  },
  {
   "cell_type": "code",
   "execution_count": null,
   "id": "86f8966e",
   "metadata": {},
   "outputs": [],
   "source": []
  }
 ],
 "metadata": {
  "kernelspec": {
   "display_name": "Python 3",
   "language": "python",
   "name": "python3"
  },
  "language_info": {
   "codemirror_mode": {
    "name": "ipython",
    "version": 3
   },
   "file_extension": ".py",
   "mimetype": "text/x-python",
   "name": "python",
   "nbconvert_exporter": "python",
   "pygments_lexer": "ipython3",
   "version": "3.8.8"
  }
 },
 "nbformat": 4,
 "nbformat_minor": 5
}
